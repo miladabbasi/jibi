{
  "nbformat": 4,
  "nbformat_minor": 0,
  "metadata": {
    "accelerator": "GPU",
    "colab": {
      "name": "Copy of bitcoin_multi_step_lstm10122020.ipynb",
      "provenance": [],
      "collapsed_sections": []
    },
    "kernelspec": {
      "display_name": "Python 3",
      "name": "python3"
    }
  },
  "cells": [
    {
      "cell_type": "code",
      "metadata": {
        "id": "QNFa1ARTT-KF"
      },
      "source": [
        "#  !wget -c https://repo.anaconda.com/archive/Anaconda3-2020.02-Linux-x86_64.sh\n",
        "#  !chmod +x Anaconda3-2020.02-Linux-x86_64.sh\n",
        "#  !bash ./Anaconda3-2020.02-Linux-x86_64.sh -b -f -p /usr/local\n",
        "#  import sys\n",
        "#  sys.path.append('/usr/local/lib/python3.7/site-packages/')"
      ],
      "execution_count": null,
      "outputs": []
    },
    {
      "cell_type": "code",
      "metadata": {
        "id": "lUrQD1_EWmFQ",
        "colab": {
          "base_uri": "https://localhost:8080/"
        },
        "outputId": "93a8ba0f-5f18-4bfb-9059-d5d2d56a3879"
      },
      "source": [
        "# !wget -O BTCUSD_H1_201801020000_201902011500.csv  https://www.dropbox.com/s/nszh2vb4z0s36lp/BTCUSD_H1_201801020000_201902011500.csv?dl=0\n",
        "#!wget -O BTCUSD_M1_202008180814_202011241414.csv  https://www.dropbox.com/s/o73dc1zy09fh1s1/BTCUSD_M1_202008180814_202011241414.csv?dl=0# increamental 2month\n",
        "#!wget -O BTCUSD_M2_202005132034_202007172358.csv  https://www.dropbox.com/s/yqnseo9bvuspj9j/BTCUSD_M2_202005132034_202007172358.csv?dl=0\n",
        "!wget -O BTCUSD_M12_201801020000_201902011536.csv https://www.dropbox.com/s/5w473vynn1dm4hc/BTCUSD_M12_201801020000_201902011536.csv?dl=0 # decreasive 1 yr\n",
        "\n",
        "# link = 'https://drive.google.com/file/d/1nYELPJnUuPrBuo7mOcDpmNRp0QbasOmE/view?usp=sharing'\n",
        "# from pydrive.auth import GoogleAuth \n",
        "# from pydrive.drive import GoogleDrive \n",
        "# from google.colab import auth \n",
        "# from oauth2client.client import GoogleCredentials \n",
        "  \n",
        "  \n",
        "# # Authenticate and create the PyDrive client. \n",
        "# auth.authenticate_user() \n",
        "# gauth = GoogleAuth() \n",
        "# gauth.credentials = GoogleCredentials.get_application_default() \n",
        "# drive = GoogleDrive(gauth)  \n",
        "# import pandas as pd \n",
        "  \n",
        "# # to get the id part of the file \n",
        "# id = link.split(\"/\")[-2] \n",
        "  \n",
        "# downloaded = drive.CreateFile({'id':id})  \n",
        "# downloaded.GetContentFile('BTCUSD_M1_202009020809_202012091355.csv')   \n",
        "  \n",
        "# df = pd.read_csv('BTCUSD_M12_201801020000_201902011536.csv')\n",
        "  "
      ],
      "execution_count": null,
      "outputs": [
        {
          "output_type": "stream",
          "text": [
            "--2020-12-10 11:35:25--  https://www.dropbox.com/s/5w473vynn1dm4hc/BTCUSD_M12_201801020000_201902011536.csv?dl=0\n",
            "Resolving www.dropbox.com (www.dropbox.com)... 162.125.1.18, 2620:100:6016:18::a27d:112\n",
            "Connecting to www.dropbox.com (www.dropbox.com)|162.125.1.18|:443... connected.\n",
            "HTTP request sent, awaiting response... 301 Moved Permanently\n",
            "Location: /s/raw/5w473vynn1dm4hc/BTCUSD_M12_201801020000_201902011536.csv [following]\n",
            "--2020-12-10 11:35:25--  https://www.dropbox.com/s/raw/5w473vynn1dm4hc/BTCUSD_M12_201801020000_201902011536.csv\n",
            "Reusing existing connection to www.dropbox.com:443.\n",
            "HTTP request sent, awaiting response... 302 Found\n",
            "Location: https://ucb704e0720dd0a5d925fe266712.dl.dropboxusercontent.com/cd/0/inline/BEyrWPfB0UUIqyNqf6Y-_ZebNpXWQNOBHlcCICuG9XJHSbmNlrdtu0KbHJE30uNAhwNoolJkc8sMD6PH1Qp3iyKE12YbBXgSX63jhabfzcsE-oMgF7oOFCtKs51v8zF-BEs/file# [following]\n",
            "--2020-12-10 11:35:25--  https://ucb704e0720dd0a5d925fe266712.dl.dropboxusercontent.com/cd/0/inline/BEyrWPfB0UUIqyNqf6Y-_ZebNpXWQNOBHlcCICuG9XJHSbmNlrdtu0KbHJE30uNAhwNoolJkc8sMD6PH1Qp3iyKE12YbBXgSX63jhabfzcsE-oMgF7oOFCtKs51v8zF-BEs/file\n",
            "Resolving ucb704e0720dd0a5d925fe266712.dl.dropboxusercontent.com (ucb704e0720dd0a5d925fe266712.dl.dropboxusercontent.com)... 162.125.1.15, 2620:100:6016:15::a27d:10f\n",
            "Connecting to ucb704e0720dd0a5d925fe266712.dl.dropboxusercontent.com (ucb704e0720dd0a5d925fe266712.dl.dropboxusercontent.com)|162.125.1.15|:443... connected.\n",
            "HTTP request sent, awaiting response... 200 OK\n",
            "Length: 2248877 (2.1M) [text/plain]\n",
            "Saving to: ‘BTCUSD_M12_201801020000_201902011536.csv’\n",
            "\n",
            "BTCUSD_M12_20180102 100%[===================>]   2.14M  --.-KB/s    in 0.05s   \n",
            "\n",
            "2020-12-10 11:35:26 (43.6 MB/s) - ‘BTCUSD_M12_201801020000_201902011536.csv’ saved [2248877/2248877]\n",
            "\n"
          ],
          "name": "stdout"
        }
      ]
    },
    {
      "cell_type": "code",
      "metadata": {
        "colab": {
          "base_uri": "https://localhost:8080/",
          "height": 17
        },
        "id": "gG5A4BkHUnfl",
        "outputId": "16830ed8-d493-4cf6-e7e5-ccfcf6cf1f05"
      },
      "source": [
        "from math import sqrt\n",
        "from numpy import concatenate\n",
        "from matplotlib import pyplot\n",
        "import pandas as pd\n",
        "from datetime import datetime\n",
        "from sklearn.preprocessing import MinMaxScaler\n",
        "from sklearn.preprocessing import LabelEncoder\n",
        "from sklearn.metrics import mean_squared_error\n",
        "from keras.models import Sequential\n",
        "from keras.layers import Dense\n",
        "from keras.layers import LSTM\n",
        "import plotly.offline as py\n",
        "import plotly.graph_objs as go\n",
        "import numpy as np\n",
        "import seaborn as sns\n",
        "py.init_notebook_mode(connected=True)\n",
        "\n",
        "data = pd.read_csv('BTCUSD_M12_201801020000_201902011536.csv')\n"
      ],
      "execution_count": null,
      "outputs": [
        {
          "output_type": "display_data",
          "data": {
            "text/html": [
              "        <script type=\"text/javascript\">\n",
              "        window.PlotlyConfig = {MathJaxConfig: 'local'};\n",
              "        if (window.MathJax) {MathJax.Hub.Config({SVG: {font: \"STIX-Web\"}});}\n",
              "        if (typeof require !== 'undefined') {\n",
              "        require.undef(\"plotly\");\n",
              "        requirejs.config({\n",
              "            paths: {\n",
              "                'plotly': ['https://cdn.plot.ly/plotly-latest.min']\n",
              "            }\n",
              "        });\n",
              "        require(['plotly'], function(Plotly) {\n",
              "            window._Plotly = Plotly;\n",
              "        });\n",
              "        }\n",
              "        </script>\n",
              "        "
            ]
          },
          "metadata": {
            "tags": []
          }
        }
      ]
    },
    {
      "cell_type": "code",
      "metadata": {
        "colab": {
          "base_uri": "https://localhost:8080/"
        },
        "id": "rMKwSicm5Uui",
        "outputId": "2df64283-d69b-444e-abf9-cf12249ac776"
      },
      "source": [
        "data.info()"
      ],
      "execution_count": null,
      "outputs": [
        {
          "output_type": "stream",
          "text": [
            "<class 'pandas.core.frame.DataFrame'>\n",
            "RangeIndex: 36780 entries, 0 to 36779\n",
            "Data columns (total 9 columns):\n",
            " #   Column     Non-Null Count  Dtype  \n",
            "---  ------     --------------  -----  \n",
            " 0   <DATE>     36780 non-null  object \n",
            " 1   <TIME>     36780 non-null  object \n",
            " 2   <OPEN>     36780 non-null  float64\n",
            " 3   <HIGH>     36780 non-null  float64\n",
            " 4   <LOW>      36780 non-null  float64\n",
            " 5   <CLOSE>    36780 non-null  float64\n",
            " 6   <TICKVOL>  36780 non-null  int64  \n",
            " 7   <VOL>      36780 non-null  int64  \n",
            " 8   <SPREAD>   36780 non-null  int64  \n",
            "dtypes: float64(4), int64(3), object(2)\n",
            "memory usage: 2.5+ MB\n"
          ],
          "name": "stdout"
        }
      ]
    },
    {
      "cell_type": "code",
      "metadata": {
        "colab": {
          "base_uri": "https://localhost:8080/",
          "height": 204
        },
        "id": "J4y7rbcs5Xsn",
        "outputId": "6630adaa-08e1-4aad-e00d-50d2c4e97a59"
      },
      "source": [
        "data.head()"
      ],
      "execution_count": null,
      "outputs": [
        {
          "output_type": "execute_result",
          "data": {
            "text/html": [
              "<div>\n",
              "<style scoped>\n",
              "    .dataframe tbody tr th:only-of-type {\n",
              "        vertical-align: middle;\n",
              "    }\n",
              "\n",
              "    .dataframe tbody tr th {\n",
              "        vertical-align: top;\n",
              "    }\n",
              "\n",
              "    .dataframe thead th {\n",
              "        text-align: right;\n",
              "    }\n",
              "</style>\n",
              "<table border=\"1\" class=\"dataframe\">\n",
              "  <thead>\n",
              "    <tr style=\"text-align: right;\">\n",
              "      <th></th>\n",
              "      <th>&lt;DATE&gt;</th>\n",
              "      <th>&lt;TIME&gt;</th>\n",
              "      <th>&lt;OPEN&gt;</th>\n",
              "      <th>&lt;HIGH&gt;</th>\n",
              "      <th>&lt;LOW&gt;</th>\n",
              "      <th>&lt;CLOSE&gt;</th>\n",
              "      <th>&lt;TICKVOL&gt;</th>\n",
              "      <th>&lt;VOL&gt;</th>\n",
              "      <th>&lt;SPREAD&gt;</th>\n",
              "    </tr>\n",
              "  </thead>\n",
              "  <tbody>\n",
              "    <tr>\n",
              "      <th>0</th>\n",
              "      <td>2018.01.02</td>\n",
              "      <td>0:00:00</td>\n",
              "      <td>13480.75</td>\n",
              "      <td>16419.42</td>\n",
              "      <td>13464.88</td>\n",
              "      <td>13528.91</td>\n",
              "      <td>451</td>\n",
              "      <td>0</td>\n",
              "      <td>40010</td>\n",
              "    </tr>\n",
              "    <tr>\n",
              "      <th>1</th>\n",
              "      <td>2018.01.02</td>\n",
              "      <td>0:12:00</td>\n",
              "      <td>13528.98</td>\n",
              "      <td>13626.68</td>\n",
              "      <td>13528.88</td>\n",
              "      <td>13563.34</td>\n",
              "      <td>408</td>\n",
              "      <td>0</td>\n",
              "      <td>40040</td>\n",
              "    </tr>\n",
              "    <tr>\n",
              "      <th>2</th>\n",
              "      <td>2018.01.02</td>\n",
              "      <td>0:24:00</td>\n",
              "      <td>13563.33</td>\n",
              "      <td>13599.15</td>\n",
              "      <td>13513.45</td>\n",
              "      <td>13513.46</td>\n",
              "      <td>167</td>\n",
              "      <td>0</td>\n",
              "      <td>40010</td>\n",
              "    </tr>\n",
              "    <tr>\n",
              "      <th>3</th>\n",
              "      <td>2018.01.02</td>\n",
              "      <td>0:36:00</td>\n",
              "      <td>13513.46</td>\n",
              "      <td>13583.33</td>\n",
              "      <td>13459.95</td>\n",
              "      <td>13515.46</td>\n",
              "      <td>521</td>\n",
              "      <td>0</td>\n",
              "      <td>40010</td>\n",
              "    </tr>\n",
              "    <tr>\n",
              "      <th>4</th>\n",
              "      <td>2018.01.02</td>\n",
              "      <td>0:48:00</td>\n",
              "      <td>13515.52</td>\n",
              "      <td>13580.00</td>\n",
              "      <td>13451.07</td>\n",
              "      <td>13451.07</td>\n",
              "      <td>422</td>\n",
              "      <td>0</td>\n",
              "      <td>40010</td>\n",
              "    </tr>\n",
              "  </tbody>\n",
              "</table>\n",
              "</div>"
            ],
            "text/plain": [
              "       <DATE>   <TIME>    <OPEN>  ...  <TICKVOL>  <VOL>  <SPREAD>\n",
              "0  2018.01.02  0:00:00  13480.75  ...        451      0     40010\n",
              "1  2018.01.02  0:12:00  13528.98  ...        408      0     40040\n",
              "2  2018.01.02  0:24:00  13563.33  ...        167      0     40010\n",
              "3  2018.01.02  0:36:00  13513.46  ...        521      0     40010\n",
              "4  2018.01.02  0:48:00  13515.52  ...        422      0     40010\n",
              "\n",
              "[5 rows x 9 columns]"
            ]
          },
          "metadata": {
            "tags": []
          },
          "execution_count": 4
        }
      ]
    },
    {
      "cell_type": "code",
      "metadata": {
        "colab": {
          "base_uri": "https://localhost:8080/",
          "height": 204
        },
        "id": "d8dA5P1A5aZV",
        "outputId": "136858ee-3a13-4bf7-b1b4-10e4594292a0"
      },
      "source": [
        "data.tail()"
      ],
      "execution_count": null,
      "outputs": [
        {
          "output_type": "execute_result",
          "data": {
            "text/html": [
              "<div>\n",
              "<style scoped>\n",
              "    .dataframe tbody tr th:only-of-type {\n",
              "        vertical-align: middle;\n",
              "    }\n",
              "\n",
              "    .dataframe tbody tr th {\n",
              "        vertical-align: top;\n",
              "    }\n",
              "\n",
              "    .dataframe thead th {\n",
              "        text-align: right;\n",
              "    }\n",
              "</style>\n",
              "<table border=\"1\" class=\"dataframe\">\n",
              "  <thead>\n",
              "    <tr style=\"text-align: right;\">\n",
              "      <th></th>\n",
              "      <th>&lt;DATE&gt;</th>\n",
              "      <th>&lt;TIME&gt;</th>\n",
              "      <th>&lt;OPEN&gt;</th>\n",
              "      <th>&lt;HIGH&gt;</th>\n",
              "      <th>&lt;LOW&gt;</th>\n",
              "      <th>&lt;CLOSE&gt;</th>\n",
              "      <th>&lt;TICKVOL&gt;</th>\n",
              "      <th>&lt;VOL&gt;</th>\n",
              "      <th>&lt;SPREAD&gt;</th>\n",
              "    </tr>\n",
              "  </thead>\n",
              "  <tbody>\n",
              "    <tr>\n",
              "      <th>36775</th>\n",
              "      <td>2019.02.01</td>\n",
              "      <td>14:48:00</td>\n",
              "      <td>3428.38</td>\n",
              "      <td>3430.38</td>\n",
              "      <td>3423.88</td>\n",
              "      <td>3424.63</td>\n",
              "      <td>112</td>\n",
              "      <td>0</td>\n",
              "      <td>1720</td>\n",
              "    </tr>\n",
              "    <tr>\n",
              "      <th>36776</th>\n",
              "      <td>2019.02.01</td>\n",
              "      <td>15:00:00</td>\n",
              "      <td>3424.64</td>\n",
              "      <td>3430.38</td>\n",
              "      <td>3424.38</td>\n",
              "      <td>3426.88</td>\n",
              "      <td>76</td>\n",
              "      <td>0</td>\n",
              "      <td>0</td>\n",
              "    </tr>\n",
              "    <tr>\n",
              "      <th>36777</th>\n",
              "      <td>2019.02.01</td>\n",
              "      <td>15:12:00</td>\n",
              "      <td>3427.14</td>\n",
              "      <td>3430.39</td>\n",
              "      <td>3425.63</td>\n",
              "      <td>3427.38</td>\n",
              "      <td>99</td>\n",
              "      <td>0</td>\n",
              "      <td>1730</td>\n",
              "    </tr>\n",
              "    <tr>\n",
              "      <th>36778</th>\n",
              "      <td>2019.02.01</td>\n",
              "      <td>15:24:00</td>\n",
              "      <td>3426.88</td>\n",
              "      <td>3432.63</td>\n",
              "      <td>3426.88</td>\n",
              "      <td>3431.89</td>\n",
              "      <td>135</td>\n",
              "      <td>0</td>\n",
              "      <td>1730</td>\n",
              "    </tr>\n",
              "    <tr>\n",
              "      <th>36779</th>\n",
              "      <td>2019.02.01</td>\n",
              "      <td>15:36:00</td>\n",
              "      <td>3431.88</td>\n",
              "      <td>3437.13</td>\n",
              "      <td>3431.13</td>\n",
              "      <td>3435.38</td>\n",
              "      <td>196</td>\n",
              "      <td>0</td>\n",
              "      <td>230</td>\n",
              "    </tr>\n",
              "  </tbody>\n",
              "</table>\n",
              "</div>"
            ],
            "text/plain": [
              "           <DATE>    <TIME>   <OPEN>  ...  <TICKVOL>  <VOL>  <SPREAD>\n",
              "36775  2019.02.01  14:48:00  3428.38  ...        112      0      1720\n",
              "36776  2019.02.01  15:00:00  3424.64  ...         76      0         0\n",
              "36777  2019.02.01  15:12:00  3427.14  ...         99      0      1730\n",
              "36778  2019.02.01  15:24:00  3426.88  ...        135      0      1730\n",
              "36779  2019.02.01  15:36:00  3431.88  ...        196      0       230\n",
              "\n",
              "[5 rows x 9 columns]"
            ]
          },
          "metadata": {
            "tags": []
          },
          "execution_count": 5
        }
      ]
    },
    {
      "cell_type": "code",
      "metadata": {
        "colab": {
          "base_uri": "https://localhost:8080/",
          "height": 35
        },
        "id": "Sb8dff2r4z3I",
        "outputId": "8ccdc027-718a-41ea-9767-a59fb0c4371f"
      },
      "source": [
        "import plotly\n",
        "y= data['<CLOSE>']\n",
        "btc_trace = go.Scatter(x=data.index, y=data['<CLOSE>'], name= 'Price')\n",
        "py.plot([btc_trace], filename='data_with_nan.html')"
      ],
      "execution_count": null,
      "outputs": [
        {
          "output_type": "execute_result",
          "data": {
            "application/vnd.google.colaboratory.intrinsic+json": {
              "type": "string"
            },
            "text/plain": [
              "'data_with_nan.html'"
            ]
          },
          "metadata": {
            "tags": []
          },
          "execution_count": 6
        }
      ]
    },
    {
      "cell_type": "code",
      "metadata": {
        "colab": {
          "base_uri": "https://localhost:8080/",
          "height": 35
        },
        "id": "bBeK4g5h5irQ",
        "outputId": "c93fb5a3-4582-469d-96eb-cdbbb0f989e9"
      },
      "source": [
        "y.replace(0, np.nan, inplace=True)\n",
        "y.fillna(method='ffill', inplace=True)\n",
        "\n",
        "btc_trace = go.Scatter(x=data.index, y=data['<CLOSE>'], name= 'Price')\n",
        "py.plot([btc_trace], filename='data_without_nan.html')"
      ],
      "execution_count": null,
      "outputs": [
        {
          "output_type": "execute_result",
          "data": {
            "application/vnd.google.colaboratory.intrinsic+json": {
              "type": "string"
            },
            "text/plain": [
              "'data_without_nan.html'"
            ]
          },
          "metadata": {
            "tags": []
          },
          "execution_count": 7
        }
      ]
    },
    {
      "cell_type": "code",
      "metadata": {
        "colab": {
          "base_uri": "https://localhost:8080/"
        },
        "id": "wx6ZBwS-5uvy",
        "outputId": "6ab0eac1-de75-4207-975f-2e6701242e1f"
      },
      "source": [
        "from sklearn.preprocessing import MinMaxScaler,StandardScaler,Normalizer,normalize\n",
        "values = y.values.reshape(-1,1)\n",
        "values = values.astype('float32')\n",
        "train_size = int(len(values) * 0.7)\n",
        "test_size = len(values) - train_size\n",
        "train, test = values[0:train_size,:], values[train_size:len(values),:]\n",
        "\n",
        "scaler_tr = StandardScaler()\n",
        "scaler_ts = StandardScaler()\n",
        "scaled_train = scaler_tr.fit_transform(train)\n",
        "scaled_test = scaler_ts.fit_transform(test)\n",
        "print(len(scaled_train), len(scaled_test))\n"
      ],
      "execution_count": null,
      "outputs": [
        {
          "output_type": "stream",
          "text": [
            "25746 11034\n"
          ],
          "name": "stdout"
        }
      ]
    },
    {
      "cell_type": "code",
      "metadata": {
        "colab": {
          "base_uri": "https://localhost:8080/"
        },
        "id": "YEJCbhb_50r3",
        "outputId": "bba99127-44fb-4e7d-d9a0-503343218974"
      },
      "source": [
        "def create_dataset(dataset, look_back,next_candles):\n",
        "    dataX, dataY = [], []\n",
        "    for i in range(len(dataset) - look_back-next_candles):\n",
        "        a = dataset[i:(i + look_back), 0]\n",
        "        dataX.append(a)\n",
        "        dataY.append(dataset[i + look_back:(i + look_back+next_candles), 0])\n",
        "    print(len(dataY))\n",
        "    return np.array(dataX), np.array(dataY)\n",
        "\n",
        "look_back = 50\n",
        "next_candles = 10\n",
        "trainX, trainY = create_dataset(scaled_train, look_back,next_candles)\n",
        "testX, testY = create_dataset(scaled_test, look_back,next_candles)\n",
        "trainX = np.reshape(trainX, (trainX.shape[0], 1, trainX.shape[1]))\n",
        "testX = np.reshape(testX, (testX.shape[0], 1, testX.shape[1]))"
      ],
      "execution_count": null,
      "outputs": [
        {
          "output_type": "stream",
          "text": [
            "25686\n",
            "10974\n"
          ],
          "name": "stdout"
        }
      ]
    },
    {
      "cell_type": "code",
      "metadata": {
        "id": "_20Ae9mY5_FV"
      },
      "source": [
        "model = Sequential()\n",
        "model.add(LSTM(256,return_sequences=True, input_shape=(trainX.shape[1], trainX.shape[2])))\n",
        "model.add(LSTM(256,return_sequences=False, input_shape=(trainX.shape[1], trainX.shape[2])))\n",
        "model.add(Dense(next_candles))\n",
        "model.compile(loss='mse', optimizer='adam')\n",
        "from keras.utils.vis_utils import plot_model\n",
        "plot_model(model, to_file='model_plot.png', show_shapes=True, show_layer_names=True)"
      ],
      "execution_count": null,
      "outputs": []
    },
    {
      "cell_type": "code",
      "metadata": {
        "id": "F-xPhmQs6Bg9"
      },
      "source": [
        "history = model.fit(trainX, trainY, epochs=50, batch_size=100, validation_split=0.2, verbose=1, shuffle=False)"
      ],
      "execution_count": null,
      "outputs": []
    },
    {
      "cell_type": "code",
      "metadata": {
        "id": "eowcCdiMwqno"
      },
      "source": [
        "model.save('model.h5')"
      ],
      "execution_count": null,
      "outputs": []
    },
    {
      "cell_type": "code",
      "metadata": {
        "id": "TtFNjRmkY4Rq",
        "colab": {
          "base_uri": "https://localhost:8080/",
          "height": 266
        },
        "outputId": "a2d309e7-9f10-4cd3-d2b7-d52422525b44"
      },
      "source": [
        "pyplot.plot(history.history['loss'], label='train')\n",
        "pyplot.plot(history.history['val_loss'], label='test')\n",
        "pyplot.legend()\n",
        "pyplot.show()"
      ],
      "execution_count": null,
      "outputs": [
        {
          "output_type": "display_data",
          "data": {
            "image/png": "[encoded data removed]",
            "text/plain": [
              "<Figure size 432x288 with 1 Axes>"
            ]
          },
          "metadata": {
            "tags": [],
            "needs_background": "light"
          }
        }
      ]
    },
    {
      "cell_type": "code",
      "metadata": {
        "id": "gWPzhK1CZ_T_",
        "colab": {
          "base_uri": "https://localhost:8080/"
        },
        "outputId": "91b340e4-4e4d-4900-ba26-3dadb1d07e66"
      },
      "source": [
        "yhat = model.predict(testX, verbose=1)"
      ],
      "execution_count": null,
      "outputs": [
        {
          "output_type": "stream",
          "text": [
            "343/343 [==============================] - 1s 2ms/step\n"
          ],
          "name": "stdout"
        }
      ]
    },
    {
      "cell_type": "code",
      "metadata": {
        "id": "u1Wt-0gLA7IM"
      },
      "source": [
        "yhat_inverse = scaler_ts.inverse_transform(yhat)\n",
        "testY_inverse = scaler_ts.inverse_transform(testY)"
      ],
      "execution_count": null,
      "outputs": []
    },
    {
      "cell_type": "code",
      "metadata": {
        "id": "mM7n_eXcXhrS",
        "colab": {
          "base_uri": "https://localhost:8080/",
          "height": 265
        },
        "outputId": "9563d9f5-1ddd-4fc9-8ed5-a2da73c2be17"
      },
      "source": [
        "predicts = np.concatenate((yhat_inverse[5000:5000,0],yhat_inverse[4999,1:10]))\n",
        "pyplot.plot(predicts, label='predict')\n",
        "pyplot.plot(testY_inverse[5000:5100,0], label='actual', alpha=0.5)\n",
        "pyplot.legend()\n",
        "pyplot.show()"
      ],
      "execution_count": null,
      "outputs": [
        {
          "output_type": "display_data",
          "data": {
            "image/png": "[encoded data removed]",
            "text/plain": [
              "<Figure size 432x288 with 1 Axes>"
            ]
          },
          "metadata": {
            "tags": [],
            "needs_background": "light"
          }
        }
      ]
    },
    {
      "cell_type": "code",
      "metadata": {
        "id": "RMtjUDmXVu3c"
      },
      "source": [
        "pyplot.plot(yhat_inverse-testY_inverse, label='predict')\n",
        "# pyplot.plot(testY_inverse, label='actual', alpha=0.5)\n",
        "pyplot.legend()\n",
        "pyplot.show()"
      ],
      "execution_count": null,
      "outputs": []
    },
    {
      "cell_type": "code",
      "metadata": {
        "id": "u834TQGk_5LO"
      },
      "source": [
        "predictDates = data.tail(len(testX)).index\n",
        "testY_reshape = testY_inverse.reshape(len(testY_inverse))\n",
        "yhat_reshape = yhat_inverse.reshape(len(yhat_inverse))\n",
        "\n",
        "actual_chart = go.Scatter(x=predictDates, y=testY_reshape, name= 'Actual Price')\n",
        "predict_chart = go.Scatter(x=predictDates, y=yhat_reshape, name= 'Predict Price')\n",
        "py.plot([predict_chart, actual_chart], filename='actual+prediction.html')"
      ],
      "execution_count": null,
      "outputs": []
    },
    {
      "cell_type": "code",
      "metadata": {
        "id": "r8zrHvpg5fSs"
      },
      "source": [
        "# next_candles = 10\n",
        "# # last_predics = []\n",
        "# for i in range(next_candles):\n",
        "#   if i==0:\n",
        "#     yhat = model.predict(testX, verbose=1)\n",
        "#     last_predict = np.reshape(yhat[-1,0],(1,1))\n",
        "#     # last_predics.append(last_predict)\n",
        "#     # print(last_predict)\n",
        "#   else:\n",
        "#     scaled_test_temp = np.concatenate((scaled_test_temp, last_predict), axis=0)\n",
        "#     testX_temp, testY_temp = create_dataset(scaled_test_temp, look_back)\n",
        "#     testX_temp.shape\n",
        "#     testX_temp = np.reshape(testX_temp, (testX_temp.shape[0], 1, testX_temp.shape[1]))\n",
        "#     yhat = model.predict(testX_temp, verbose=1)\n",
        "#     last_predict = np.reshape(yhat[-1,0],(1,1))\n",
        "#     # last_predics.append(last_predict)\n",
        "#     # print(last_predict)\n",
        "# #print(trainX.shape)\n",
        "# # trainX = np.reshape(trainX, (trainX.shape[0], 1, trainX.shape[1]))\n",
        "# # testX = np.reshape(testX, (testX.shape[0], 1, testX.shape[1]))\n",
        "\n",
        "\n",
        "# # for i in range(next_candles):\n",
        "# #   1)\n",
        "\n",
        "# # pyplot.plot(yhat, label='predict')\n",
        "# # pyplot.plot(testY, label='true')\n",
        "# # pyplot.legend()\n",
        "# # #axzoom = pyplot.subplot()\n",
        "# # #axzoom.set(xlim =(2.45e5, 2.4e5), ylim =(0.2, 0.275), autoscale_on = False)\n",
        "# # pyplot.show()"
      ],
      "execution_count": null,
      "outputs": []
    },
    {
      "cell_type": "code",
      "metadata": {
        "id": "RFOmvQ8wFgWp"
      },
      "source": [
        "model.save('model1.h5')"
      ],
      "execution_count": null,
      "outputs": []
    },
    {
      "cell_type": "code",
      "metadata": {
        "id": "YdiSYmf9FwkJ"
      },
      "source": [
        "sns.heatmap(data.corr(), annot=True, cmap='RdYlGn', linewidths=0.1, vmin=0)"
      ],
      "execution_count": null,
      "outputs": []
    },
    {
      "cell_type": "code",
      "metadata": {
        "id": "hfN2dc5oAdk1"
      },
      "source": [
        "def series_to_supervised(data, n_in=1, n_out=1, dropnan=True):\n",
        "    n_vars = 1 if type(data) is list else data.shape[1]\n",
        "    df = pd.DataFrame(data)\n",
        "    cols, names = list(), list()\n",
        "    # input sequence (t-n, ... t-1)\n",
        "    for i in range(n_in, 0, -1):\n",
        "        cols.append(df.shift(i))\n",
        "        names += [('var%d(t-%d)' % (j+1, i)) for j in range(n_vars)]\n",
        "    # forecast sequence (t, t+1, ... t+n)\n",
        "    for i in range(0, n_out):\n",
        "        cols.append(df.shift(-i))\n",
        "        if i == 0:\n",
        "            names += [('var%d(t)' % (j+1)) for j in range(n_vars)]\n",
        "        else:\n",
        "            names += [('var%d(t+%d)' % (j+1, i)) for j in range(n_vars)]\n",
        "    # put it all together\n",
        "    agg = pd.concat(cols, axis=1)\n",
        "    agg.columns = names\n",
        "    # drop rows with NaN values\n",
        "    if dropnan:\n",
        "        agg.dropna(inplace=True)\n",
        "    return agg\n",
        "\n",
        "values = data[['Weighted_Price'] + ['Volume_(BTC)'] + ['Volume_(Currency)']].values\n",
        "values = values.astype('float32')\n",
        "\n",
        "scaler = MinMaxScaler(feature_range=(0, 1))\n",
        "scaled = scaler.fit_transform(values)\n",
        "\n",
        "reframed = series_to_supervised(scaled, 1, 1)\n",
        "reframed.head()"
      ],
      "execution_count": null,
      "outputs": []
    },
    {
      "cell_type": "code",
      "metadata": {
        "id": "9LjPWuA_AoHd"
      },
      "source": [
        "reframed.drop(reframed.columns[[4,5]], axis=1, inplace=True)\n",
        "print(reframed.head())"
      ],
      "execution_count": null,
      "outputs": []
    },
    {
      "cell_type": "code",
      "metadata": {
        "id": "jV9e-uuRArVt"
      },
      "source": [
        "values = reframed.values\n",
        "n_train_hours = int(len(values) * 0.7)\n",
        "train = values[:n_train_hours, :]\n",
        "test = values[n_train_hours:, :]\n",
        "# split into input and outputs\n",
        "train_X, train_y = train[:, :-1], train[:, -1]\n",
        "test_X, test_y = test[:, :-1], test[:, -1]\n",
        "# reshape input to be 3D [samples, timesteps, features]\n",
        "train_X = train_X.reshape((train_X.shape[0], 1, train_X.shape[1]))\n",
        "test_X = test_X.reshape((test_X.shape[0], 1, test_X.shape[1]))\n",
        "print(train_X.shape, train_y.shape, test_X.shape, test_y.shape)\n",
        "\n",
        "multi_model = Sequential()\n",
        "multi_model.add(LSTM(100, input_shape=(train_X.shape[1], train_X.shape[2])))\n",
        "multi_model.add(Dense(1))\n",
        "multi_model.compile(loss='mae', optimizer='adam')\n",
        "multi_history = multi_model.fit(train_X, train_y, epochs=15, batch_size=512, validation_data=(test_X, test_y), verbose=0, shuffle=False)"
      ],
      "execution_count": null,
      "outputs": []
    },
    {
      "cell_type": "code",
      "metadata": {
        "id": "uPcYkjSJAyTF"
      },
      "source": [
        "pyplot.plot(multi_history.history['loss'], label='multi_train')\n",
        "pyplot.plot(multi_history.history['val_loss'], label='multi_test')\n",
        "pyplot.legend()\n",
        "pyplot.show()"
      ],
      "execution_count": null,
      "outputs": []
    },
    {
      "cell_type": "code",
      "metadata": {
        "id": "RA-vnwZgA03X"
      },
      "source": [
        "yhat = multi_model.predict(test_X)\n",
        "pyplot.plot(yhat, label='predict')\n",
        "pyplot.plot(test_y, label='true')\n",
        "pyplot.legend()\n",
        "pyplot.show()"
      ],
      "execution_count": null,
      "outputs": []
    },
    {
      "cell_type": "code",
      "metadata": {
        "id": "uPgj0D-LA6wV"
      },
      "source": [
        "test_X = test_X.reshape((test_X.shape[0], test_X.shape[2]))\n",
        "# invert scaling for forecast\n",
        "inv_yhat = concatenate((yhat, test_X[:, 1:]), axis=1)\n",
        "inv_yhat = scaler.inverse_transform(inv_yhat)\n",
        "inv_yhat = inv_yhat[:,0]\n",
        "# invert scaling for actual\n",
        "test_y = test_y.reshape((len(test_y), 1))\n",
        "inv_y = concatenate((test_y, test_X[:, 1:]), axis=1)\n",
        "inv_y = scaler.inverse_transform(inv_y)\n",
        "inv_y = inv_y[:,0]\n",
        "\n",
        "rmse = sqrt(mean_squared_error(inv_y, inv_yhat))\n",
        "print('Test RMSE: %.3f' % rmse)"
      ],
      "execution_count": null,
      "outputs": []
    },
    {
      "cell_type": "code",
      "metadata": {
        "id": "OHbQ6XmkA96d"
      },
      "source": [
        "actual_chart = go.Scatter(x=predictDates, y=inv_y, name= 'Actual Price')\n",
        "multi_predict_chart = go.Scatter(x=predictDates, y=inv_yhat, name= 'Multi Predict Price')\n",
        "predict_chart = go.Scatter(x=predictDates, y=yhat_reshape, name= 'Predict Price')\n",
        "py.plot([predict_chart, multi_predict_chart, actual_chart])"
      ],
      "execution_count": null,
      "outputs": []
    }
  ]
}